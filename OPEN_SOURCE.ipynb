{
    "cells": [
        {
            "metadata": {},
            "cell_type": "markdown",
            "source": "# My Jupyter Notebook on IBM Data Science Experience"
        },
        {
            "metadata": {},
            "cell_type": "markdown",
            "source": "**ABHISHEK SINGH**"
        },
        {
            "metadata": {},
            "cell_type": "markdown",
            "source": "Data Scientist"
        },
        {
            "metadata": {},
            "cell_type": "markdown",
            "source": "_I am interested in data science because I love to explore with numbers_"
        },
        {
            "metadata": {},
            "cell_type": "markdown",
            "source": "### string assigning"
        },
        {
            "metadata": {},
            "cell_type": "code",
            "source": "x =\"HELLO MY COLLEAGUES\"",
            "execution_count": 2,
            "outputs": []
        },
        {
            "metadata": {},
            "cell_type": "code",
            "source": "x",
            "execution_count": 3,
            "outputs": [
                {
                    "output_type": "display_data",
                    "data": {
                        "text/plain": "[1] \"HELLO MY COLLEAGUES\"",
                        "text/latex": "'HELLO MY COLLEAGUES'",
                        "text/markdown": "'HELLO MY COLLEAGUES'",
                        "text/html": "'HELLO MY COLLEAGUES'"
                    },
                    "metadata": {}
                }
            ]
        },
        {
            "metadata": {},
            "cell_type": "markdown",
            "source": "<img src=https://revolution-computing.typepad.com/.a/6a010534b1db25970b01bb086ef987970d-600wi width = 400></a>"
        },
        {
            "metadata": {},
            "cell_type": "markdown",
            "source": "\n| Tables        | Are           | Cool  |\n| ------------- |:-------------:| -----:|\n| col 3 is      | right-aligned | $1600 |\n| col 2 is      | centered      |   $12 |\n| zebra stripes | are neat      |    $1 |"
        },
        {
            "metadata": {},
            "cell_type": "markdown",
            "source": "Markdown | Less | Pretty\n--- | --- | ---\n*Still* | `renders` | **nicely**\n1 | 2 | 3"
        },
        {
            "metadata": {},
            "cell_type": "code",
            "source": "",
            "execution_count": null,
            "outputs": []
        }
    ],
    "metadata": {
        "kernelspec": {
            "name": "r",
            "display_name": "R 3.4 with Spark",
            "language": "R"
        },
        "language_info": {
            "mimetype": "text/x-r-source",
            "name": "R",
            "pygments_lexer": "r",
            "version": "3.4.4",
            "file_extension": ".r",
            "codemirror_mode": "r"
        }
    },
    "nbformat": 4,
    "nbformat_minor": 1
}