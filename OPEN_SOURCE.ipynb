{
    "cells": [
        {
            "cell_type": "markdown",
            "metadata": {},
            "source": "# My Jupyter Notebook on IBM Data Science Experience"
        },
        {
            "cell_type": "markdown",
            "metadata": {},
            "source": "**ABHISHEK SINGH**"
        },
        {
            "cell_type": "markdown",
            "metadata": {},
            "source": "Data Scientist"
        },
        {
            "cell_type": "markdown",
            "metadata": {},
            "source": "_I am interested in data science because I love to explore with numbers_"
        },
        {
            "cell_type": "markdown",
            "metadata": {},
            "source": "### string assigning"
        },
        {
            "cell_type": "code",
            "execution_count": 2,
            "metadata": {},
            "outputs": [],
            "source": "x =\"HELLO MY COLLEAGUES\""
        },
        {
            "cell_type": "code",
            "execution_count": 3,
            "metadata": {},
            "outputs": [
                {
                    "data": {
                        "text/html": "'HELLO MY COLLEAGUES'",
                        "text/latex": "'HELLO MY COLLEAGUES'",
                        "text/markdown": "'HELLO MY COLLEAGUES'",
                        "text/plain": "[1] \"HELLO MY COLLEAGUES\""
                    },
                    "metadata": {},
                    "output_type": "display_data"
                }
            ],
            "source": "x"
        },
        {
            "cell_type": "markdown",
            "metadata": {},
            "source": "<img src=https://revolution-computing.typepad.com/.a/6a010534b1db25970b01bb086ef987970d-600wi width = 400></a>"
        },
        {
            "cell_type": "code",
            "execution_count": null,
            "metadata": {},
            "outputs": [],
            "source": ""
        }
    ],
    "metadata": {
        "kernelspec": {
            "display_name": "R 3.4 with Spark",
            "language": "R",
            "name": "r"
        },
        "language_info": {
            "codemirror_mode": "r",
            "file_extension": ".r",
            "mimetype": "text/x-r-source",
            "name": "R",
            "pygments_lexer": "r",
            "version": "3.4.4"
        }
    },
    "nbformat": 4,
    "nbformat_minor": 1
}