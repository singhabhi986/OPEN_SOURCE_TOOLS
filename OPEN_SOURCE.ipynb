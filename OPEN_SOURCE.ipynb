{
    "cells": [
        {
            "metadata": {},
            "cell_type": "code",
            "source": "1+1",
            "execution_count": 1,
            "outputs": [
                {
                    "output_type": "display_data",
                    "data": {
                        "text/plain": "[1] 2",
                        "text/latex": "2",
                        "text/markdown": "2",
                        "text/html": "2"
                    },
                    "metadata": {}
                }
            ]
        },
        {
            "metadata": {},
            "cell_type": "code",
            "source": "x = \"Hello World\"",
            "execution_count": 2,
            "outputs": []
        },
        {
            "metadata": {},
            "cell_type": "code",
            "source": "x",
            "execution_count": 3,
            "outputs": [
                {
                    "output_type": "display_data",
                    "data": {
                        "text/plain": "[1] \"Hello World\"",
                        "text/latex": "'Hello World'",
                        "text/markdown": "'Hello World'",
                        "text/html": "'Hello World'"
                    },
                    "metadata": {}
                }
            ]
        },
        {
            "metadata": {},
            "cell_type": "code",
            "source": "",
            "execution_count": null,
            "outputs": []
        }
    ],
    "metadata": {
        "kernelspec": {
            "name": "r",
            "display_name": "R 3.4 with Spark",
            "language": "R"
        },
        "language_info": {
            "mimetype": "text/x-r-source",
            "name": "R",
            "pygments_lexer": "r",
            "version": "3.4.4",
            "file_extension": ".r",
            "codemirror_mode": "r"
        }
    },
    "nbformat": 4,
    "nbformat_minor": 1
}